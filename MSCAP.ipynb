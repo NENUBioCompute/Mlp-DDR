{
 "cells": [
  {
   "cell_type": "markdown",
   "id": "87ab528f-96c0-4fd8-a176-d2dea8a3b64c",
   "metadata": {},
   "source": [
    "## Model: MSCAP"
   ]
  },
  {
   "cell_type": "code",
   "execution_count": null,
   "id": "cf60911c-5740-4707-b1d8-248c0a3f86c8",
   "metadata": {},
   "outputs": [],
   "source": [
    "# -*- coding: utf8 -*-\n",
    "import numpy as np\n",
    "import pandas as pd\n",
    "import keras\n",
    "import tensorflow as tf\n",
    "from keras.models import Sequential\n",
    "from tensorflow.python.keras.utils.vis_utils import plot_model\n",
    "from keras.utils import np_utils,plot_model\n",
    "from sklearn.model_selection import cross_val_score,train_test_split\n",
    "from keras.layers import Dense, Dropout,Flatten,Conv1D,MaxPooling1D,AveragePooling1D\n",
    "from keras.models import model_from_json\n",
    "import matplotlib.pyplot as plt\n",
    "from keras import backend as K\n",
    "from keras.models import Model\n",
    "from keras.layers import Input\n",
    "from sklearn import preprocessing"
   ]
  },
  {
   "cell_type": "markdown",
   "id": "7266eb7a-3615-46b6-8881-f29f4bb867a3",
   "metadata": {},
   "source": [
    "### input"
   ]
  },
  {
   "cell_type": "code",
   "execution_count": null,
   "id": "738c77f9-8b58-4803-bb5d-282a213844cb",
   "metadata": {},
   "outputs": [],
   "source": [
    "%%time\n",
    "df_raw = pd.read_csv('../datasets/all_healthy_data.csv')"
   ]
  },
  {
   "cell_type": "code",
   "execution_count": null,
   "id": "fc179b5f-1ec8-4d3d-923c-039f2555aaff",
   "metadata": {},
   "outputs": [],
   "source": [
    "df_raw.shape"
   ]
  },
  {
   "cell_type": "code",
   "execution_count": null,
   "id": "829c3778-5522-45c7-b9b1-1a48be9cff79",
   "metadata": {
    "tags": []
   },
   "outputs": [],
   "source": [
    "df_raw"
   ]
  },
  {
   "cell_type": "code",
   "execution_count": null,
   "id": "ec6e0676-b809-4cf6-8396-c3ca2ccd6730",
   "metadata": {
    "tags": []
   },
   "outputs": [],
   "source": [
    "#行列名保存下来\n",
    "row_indices = df_raw['Unnamed: 0'].tolist()\n",
    "column_names = df_raw.columns.values\n"
   ]
  },
  {
   "cell_type": "code",
   "execution_count": null,
   "id": "f6a60e5b-f224-49b8-93cf-0ae857943255",
   "metadata": {
    "tags": []
   },
   "outputs": [],
   "source": [
    "#将第一列删除\n",
    "del df_raw['Unnamed: 0']\n",
    "#行名变为样本名\n",
    "df_raw.index = row_indices\n",
    "df_raw"
   ]
  },
  {
   "cell_type": "code",
   "execution_count": null,
   "id": "abaa76dc-ee1c-41ba-b68a-1dcc05a36de5",
   "metadata": {},
   "outputs": [],
   "source": [
    "# 提取特征列\n",
    "X = df_raw.iloc[:, :-1].values\n",
    "X = np.expand_dims(X.astype(float), axis=2)#增加一维轴\n",
    "# 提取标签列\n",
    "y = df_raw.iloc[:, -1].values\n",
    "X.shape,y.shape"
   ]
  },
  {
   "cell_type": "markdown",
   "id": "9914151b-0cf2-4e84-9f36-17ddf48b28cd",
   "metadata": {},
   "source": [
    "### Divide the dataset"
   ]
  },
  {
   "cell_type": "code",
   "execution_count": null,
   "id": "af661571-e8ee-4fe8-b232-e4f032eccb8d",
   "metadata": {},
   "outputs": [],
   "source": [
    "# 划分训练集，测试集\n",
    "X_train, X_test, Y_train, Y_test = train_test_split(X, y, test_size=0.2, random_state=42)"
   ]
  },
  {
   "cell_type": "markdown",
   "id": "bd6df3a5-91c8-46dd-8a7b-f25811a360c5",
   "metadata": {},
   "source": [
    "### Model"
   ]
  },
  {
   "cell_type": "code",
   "execution_count": null,
   "id": "36d06245-ea46-45cc-ba13-233db4c95b8d",
   "metadata": {},
   "outputs": [],
   "source": [
    "def Block(input):\n",
    "    input_shape = Input(shape=(X_train.shape[1],1))\n",
    "    \n",
    "    #1st layer 如果卷积时，设置padding的属性值是 SAME ，则表示输出层尺寸 = 输入层尺寸\n",
    "    layer_1 = Conv1D(1,1,padding = 'same',activation='relu')(input)\n",
    "    dropout1 = Dropout(0.2)(layer_1)\n",
    "    #2nd layer\n",
    "    layer_2_1 = Conv1D(1, 1, padding='same', activation='relu')(input)\n",
    "    layer_2_2 = Conv1D(1, 8, padding='same', activation='relu')(layer_2_1)\n",
    "    dropout2 = Dropout(0.2)(layer_2_2)\n",
    "    #3rd layer\n",
    "    layer_3_1 = Conv1D(1, 1, padding='same', activation='relu')(input)\n",
    "    layer_3_2 = Conv1D(1, 16, padding='same', activation='relu')(layer_3_1)\n",
    "    layer_3_3 = Conv1D(1, 16, padding='same', activation='relu')(layer_3_2)\n",
    "    dropout3 = Dropout(0.2)(layer_3_3)\n",
    "    #4st layer\n",
    "    layer_4_1 = Conv1D(1, 1, padding='same', activation='relu')(input)\n",
    "    layer_4_2 = Conv1D(1, 32, padding='same', activation='relu')(layer_4_1)\n",
    "    layer_4_3 = Conv1D(1, 32, padding='same', activation='relu')(layer_4_2)\n",
    "    layer_4_4 = Conv1D(1, 32, padding='same', activation='relu')(layer_4_3)\n",
    "    dropout4 = Dropout(0.2)(layer_4_4)\n",
    "\n",
    "    output = keras.layers.concatenate([dropout1, dropout2, dropout3,dropout4], axis = 2)\n",
    "    return output"
   ]
  },
  {
   "cell_type": "code",
   "execution_count": null,
   "id": "c960be19-9a99-42f5-8349-2f9f423373e7",
   "metadata": {
    "jupyter": {
     "outputs_hidden": true
    },
    "tags": []
   },
   "outputs": [],
   "source": [
    "#输入\n",
    "input_shape = Input(shape=(X_train.shape[1],1))\n",
    "#全连接层1\n",
    "fc1 = Dense(512, activation='relu')(input_shape)\n",
    "fc2 = Dense(25789, activation='linear')(fc1)\n",
    "#调用block，构成MSCNN模块\n",
    "#第一列\n",
    "block1 = Block(fc2)\n",
    "block2 = Block(fc2)\n",
    "block3 = Block(fc2)\n",
    "block4 = Block(fc2)\n",
    "#第二列\n",
    "block5 = Block(block2)\n",
    "block6 = Block(block3)\n",
    "block7 = Block(block4)\n",
    "#第三列\n",
    "block8 = Block(block6)\n",
    "block9 = Block(block7)\n",
    "#第四列\n",
    "block10 = Block(block9)\n",
    "#合并\n",
    "MSCNN = keras.layers.concatenate([block1, block5, block8，block10, axis = 2)\n",
    "\n",
    "flat_1 = Flatten()(MSCNN)\n",
    "output1 = Dense(16, activation='relu')(flat_1)\n",
    "dropout = Dropout(0.2)(output1)\n",
    "output = Dense(1, activation='linear')(dropout)\n",
    "\n",
    "model = Model([input_shape], output)\n",
    "model.summary()\n",
    "adam = keras.optimizers.adam_v2.Adam(learning_rate=0.0001)\n",
    "model.compile(optimizer=adam, loss='mean_squared_error', metrics=['mae'])"
   ]
  },
  {
   "cell_type": "markdown",
   "id": "c5b4192f-f65a-473e-afac-5fbe6b31cc0f",
   "metadata": {},
   "source": [
    "### batch_size过大或者其他原因可能会导致占用内存过大，因此训练模型前可以提前释放一下服务器上"
   ]
  },
  {
   "cell_type": "code",
   "execution_count": null,
   "id": "323648a8-a9df-4c13-9440-6536e5f8dbd8",
   "metadata": {},
   "outputs": [],
   "source": [
    "from keras.backend import set_session\n",
    "from keras.backend import clear_session\n",
    "from keras.backend import get_session\n",
    "import tensorflow as tf\n",
    "import gc\n",
    " \n",
    "# Reset Keras Session\n",
    "def reset_keras():\n",
    "    sess = get_session()\n",
    "    clear_session()\n",
    "    sess.close()\n",
    "    sess = get_session()\n",
    " \n",
    "    try:\n",
    "        del classifier # this is from global space - change this as you need\n",
    "    except:\n",
    "        pass\n",
    " \n",
    "    print(gc.collect()) # if it does something you should see a number as output\n",
    " \n",
    "    # use the same config as you used to create the session\n",
    "    config = tf.compat.v1.ConfigProto()\n",
    "    config.gpu_options.per_process_gpu_memory_fraction = 1\n",
    "    config.gpu_options.visible_device_list = \"0\"\n",
    "    set_session(tf.compat.v1.Session(config=config))"
   ]
  },
  {
   "cell_type": "code",
   "execution_count": null,
   "id": "dd03b0ca-a675-43a7-ab95-82f24e3cd83a",
   "metadata": {
    "jupyter": {
     "outputs_hidden": true
    },
    "tags": []
   },
   "outputs": [],
   "source": [
    "reset_keras()\n",
    "# 训练模型\n",
    "history = model.fit(X_train.astype(np.float32),Y_train.astype(np.float32), validation_data=(X_test.astype(np.float32), Y_test.astype(np.float32)),epochs=200, batch_size=128)"
   ]
  },
  {
   "cell_type": "code",
   "execution_count": null,
   "id": "796f912a-0e14-4137-af3d-e4f2ace9590d",
   "metadata": {
    "tags": []
   },
   "outputs": [],
   "source": [
    "# 训练模型\n",
    "history = model.fit(X_train.astype(np.float32),Y_train.astype(np.float32), validation_data=(X_test.astype(np.float32), Y_test.astype(np.float32)),epochs=200, batch_size=128)"
   ]
  },
  {
   "cell_type": "markdown",
   "id": "14920c5c-f641-489b-91ed-afb148fba9ff",
   "metadata": {},
   "source": [
    "### Loss函数"
   ]
  },
  {
   "cell_type": "code",
   "execution_count": null,
   "id": "90f5395f-6040-4081-adc1-f4ed4ace905d",
   "metadata": {},
   "outputs": [],
   "source": [
    "plt.plot(history.history['loss'])\n",
    "plt.plot(history.history['val_loss'])\n",
    "plt.title('Model loss')\n",
    "plt.ylabel('LOSS')\n",
    "plt.xlabel('Epoch')\n",
    "plt.legend(['Train', 'Test'], loc='upper left')\n",
    "plt.show()"
   ]
  },
  {
   "cell_type": "code",
   "execution_count": null,
   "id": "64eccc52-8ab9-4582-9d11-82c5ec5730e3",
   "metadata": {},
   "outputs": [],
   "source": [
    "import keras\n",
    "from keras.models import load_model\n",
    "# 保存训练好的model为hdf5文件\n",
    "model.save('../model/save_model/model.h5')  \n",
    "# 重新加载模型\n",
    "# model = load_model('../model/save_model/model_selu.h5')"
   ]
  },
  {
   "cell_type": "code",
   "execution_count": null,
   "id": "33aa009f",
   "metadata": {},
   "outputs": [],
   "source": [
    "# 获取模型权重\n",
    "weights = model.get_weights() \n",
    "# 给模型权重赋值，注意列表中的数组必须与 get_weights() 返回的权重具有相同的尺寸。\n",
    "model.set_weights(weights)"
   ]
  },
  {
   "cell_type": "code",
   "execution_count": null,
   "id": "1cd5b53c",
   "metadata": {},
   "outputs": [],
   "source": [
    "import seaborn as sns\n",
    "# train\n",
    "predicted = model.predict(X_train)\n",
    "y_pred = []\n",
    "for i in predicted:\n",
    "    y_pred.append(i[0])\n",
    "y_pred = np.array(y_pred)\n",
    "sns.scatterplot(Y_train, y_pred,color='black', s=3)\n",
    "plt.legend([\"Pred Age\",\"y = x\"])\n",
    "plt.xlabel('True Age')\n",
    "plt.ylabel('Predicted Age')\n",
    "plt.show()\n"
   ]
  },
  {
   "cell_type": "code",
   "execution_count": null,
   "id": "d4e8df04",
   "metadata": {},
   "outputs": [],
   "source": [
    "import seaborn as sns\n",
    "\n",
    "# test\n",
    "predicted = model.predict(X_test)\n",
    "y_pred = []\n",
    "for i in predicted:\n",
    "    y_pred.append(i[0])\n",
    "y_pred = np.array(y_pred)\n",
    "sns.scatterplot(Y_test, y_pred,color='black', s=3)\n",
    "plt.legend([\"Pred Age\",\"y = x\"])\n",
    "plt.xlabel('True Age')\n",
    "plt.ylabel('Predicted Age')\n",
    "plt.show()\n"
   ]
  },
  {
   "cell_type": "code",
   "execution_count": null,
   "id": "23e53416",
   "metadata": {},
   "outputs": [],
   "source": [
    "#Metrics\n",
    "from sklearn import metrics\n",
    "from scipy.stats import pearsonr# R square way2\n",
    "mad = round((np.median(np.abs(np.array(y_pred)-Y_test))),2)\n",
    "mse = round((np.mean((np.array(y_pred)-Y_test) ** 2)),2)\n",
    "rmse = round((np.sqrt(mse)),2)\n",
    "pearsonR = round((pearsonr(Y_test, y_pred).statistic), 2)\n",
    "pearsonR,mad,mse,rmse"
   ]
  }
 ],
 "metadata": {
  "kernelspec": {
   "display_name": "Python 3 (ipykernel)",
   "language": "python",
   "name": "python3"
  },
  "language_info": {
   "codemirror_mode": {
    "name": "ipython",
    "version": 3
   },
   "file_extension": ".py",
   "mimetype": "text/x-python",
   "name": "python",
   "nbconvert_exporter": "python",
   "pygments_lexer": "ipython3",
   "version": "3.8.13"
  }
 },
 "nbformat": 4,
 "nbformat_minor": 5
}
